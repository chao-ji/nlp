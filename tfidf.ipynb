{
 "cells": [
  {
   "cell_type": "code",
   "execution_count": 1,
   "metadata": {
    "collapsed": true
   },
   "outputs": [],
   "source": [
    "import numpy as np\n",
    "from corpus import Corpus"
   ]
  },
  {
   "cell_type": "markdown",
   "metadata": {},
   "source": [
    "### Comparison with gensim"
   ]
  },
  {
   "cell_type": "code",
   "execution_count": 2,
   "metadata": {
    "collapsed": true
   },
   "outputs": [],
   "source": [
    "# This is an example from gensim\n",
    "# https://radimrehurek.com/gensim/tut2.html \n",
    "\n",
    "text1 = [['human', 'interface', 'computer'],\n",
    " ['survey', 'user', 'computer', 'system', 'response', 'time'],\n",
    " ['eps', 'user', 'interface', 'system'],\n",
    " ['system', 'human', 'system', 'eps'],\n",
    " ['user', 'response', 'time'],\n",
    " ['trees'],\n",
    " ['graph', 'trees'],\n",
    " ['graph', 'minors', 'trees'],\n",
    " ['graph', 'minors', 'survey']]\n",
    "\n",
    "corpus = Corpus(text1)"
   ]
  },
  {
   "cell_type": "markdown",
   "metadata": {},
   "source": [
    "I. tfidf computed using **tfidf_fit** or an **Corpus** object"
   ]
  },
  {
   "cell_type": "code",
   "execution_count": 3,
   "metadata": {
    "collapsed": false
   },
   "outputs": [
    {
     "name": "stdout",
     "output_type": "stream",
     "text": [
      "[(0, 0.57735026918962584), (1, 0.57735026918962584), (2, 0.57735026918962584)]\n",
      "[(2, 0.44424552527467476), (3, 0.44424552527467476), (4, 0.32448702061385554), (5, 0.32448702061385554), (6, 0.44424552527467476), (7, 0.44424552527467476)]\n",
      "[(1, 0.5710059809418182), (4, 0.41707573620227772), (5, 0.41707573620227772), (8, 0.5710059809418182)]\n",
      "[(0, 0.49182558987264147), (5, 0.71848116070837698), (8, 0.49182558987264147)]\n",
      "[(4, 0.45889394536615252), (6, 0.62825804686700459), (7, 0.62825804686700459)]\n",
      "[(9, 1.0)]\n",
      "[(9, 0.70710678118654757), (10, 0.70710678118654757)]\n",
      "[(9, 0.50804290089167503), (10, 0.50804290089167503), (11, 0.69554641952003715)]\n",
      "[(3, 0.62825804686700459), (10, 0.45889394536615252), (11, 0.62825804686700459)]\n"
     ]
    }
   ],
   "source": [
    "for doc in corpus.tfidf_fit():\n",
    "    print doc"
   ]
  },
  {
   "cell_type": "markdown",
   "metadata": {},
   "source": [
    "II. tfidf computed using **models.TfidfModel** from **gensim**"
   ]
  },
  {
   "cell_type": "code",
   "execution_count": 4,
   "metadata": {
    "collapsed": true
   },
   "outputs": [],
   "source": [
    "from gensim import corpora, models, similarities\n",
    "\n",
    "dictionary = corpora.Dictionary(text1)\n",
    "gensim_corpus = [dictionary.doc2bow(text) for text in text1]"
   ]
  },
  {
   "cell_type": "code",
   "execution_count": 5,
   "metadata": {
    "collapsed": false
   },
   "outputs": [
    {
     "data": {
      "text/plain": [
       "[[(0, 1), (1, 1), (2, 1)],\n",
       " [(1, 1), (3, 1), (4, 1), (5, 1), (6, 1), (7, 1)],\n",
       " [(0, 1), (6, 1), (7, 1), (8, 1)],\n",
       " [(2, 1), (6, 2), (8, 1)],\n",
       " [(3, 1), (4, 1), (7, 1)],\n",
       " [(9, 1)],\n",
       " [(9, 1), (10, 1)],\n",
       " [(9, 1), (10, 1), (11, 1)],\n",
       " [(5, 1), (10, 1), (11, 1)]]"
      ]
     },
     "execution_count": 5,
     "metadata": {},
     "output_type": "execute_result"
    }
   ],
   "source": [
    "gensim_corpus"
   ]
  },
  {
   "cell_type": "code",
   "execution_count": 6,
   "metadata": {
    "collapsed": false
   },
   "outputs": [
    {
     "name": "stdout",
     "output_type": "stream",
     "text": [
      "[(0, 0.5773502691896257), (1, 0.5773502691896257), (2, 0.5773502691896257)]\n",
      "[(1, 0.44424552527467476), (3, 0.44424552527467476), (4, 0.44424552527467476), (5, 0.44424552527467476), (6, 0.3244870206138555), (7, 0.3244870206138555)]\n",
      "[(0, 0.5710059809418182), (6, 0.4170757362022777), (7, 0.4170757362022777), (8, 0.5710059809418182)]\n",
      "[(2, 0.49182558987264147), (6, 0.7184811607083769), (8, 0.49182558987264147)]\n",
      "[(3, 0.6282580468670046), (4, 0.6282580468670046), (7, 0.45889394536615247)]\n",
      "[(9, 1.0)]\n",
      "[(9, 0.7071067811865475), (10, 0.7071067811865475)]\n",
      "[(9, 0.5080429008916749), (10, 0.5080429008916749), (11, 0.695546419520037)]\n",
      "[(5, 0.6282580468670046), (10, 0.45889394536615247), (11, 0.6282580468670046)]\n"
     ]
    }
   ],
   "source": [
    "tfidf = models.TfidfModel(gensim_corpus)\n",
    "for doc in tfidf[gensim_corpus]:\n",
    "    print doc"
   ]
  },
  {
   "cell_type": "markdown",
   "metadata": {},
   "source": [
    "### Comparison with scikit-learn"
   ]
  },
  {
   "cell_type": "code",
   "execution_count": 7,
   "metadata": {
    "collapsed": false
   },
   "outputs": [
    {
     "data": {
      "text/plain": [
       "[['apple', 'apple', 'apple', 'cat'],\n",
       " ['apple', 'apple'],\n",
       " ['apple', 'apple', 'apple'],\n",
       " ['apple', 'apple', 'apple', 'apple'],\n",
       " ['apple', 'apple', 'apple', 'banana', 'banana'],\n",
       " ['apple', 'apple', 'apple', 'cat', 'cat']]"
      ]
     },
     "execution_count": 7,
     "metadata": {},
     "output_type": "execute_result"
    }
   ],
   "source": [
    "text2 = [[\"apple\"] * 3 + [\"cat\"],\n",
    "[\"apple\"] * 2,\n",
    "[\"apple\"] * 3,\n",
    "[\"apple\"] * 4,\n",
    "[\"apple\"] * 3 + [\"banana\"] * 2,\n",
    "[\"apple\"] * 3 + [\"cat\"] * 2]\n",
    "\n",
    "text2"
   ]
  },
  {
   "cell_type": "markdown",
   "metadata": {},
   "source": [
    "I. tfidf computed using **tfidf_fit** or an **Corpus** object"
   ]
  },
  {
   "cell_type": "code",
   "execution_count": 8,
   "metadata": {
    "collapsed": true
   },
   "outputs": [],
   "source": [
    "corpus = Corpus(text2)"
   ]
  },
  {
   "cell_type": "code",
   "execution_count": 9,
   "metadata": {
    "collapsed": false
   },
   "outputs": [],
   "source": [
    "idf_nosmooth = lambda x, n_doc: np.log(n_doc / float(x)) + 1.\n",
    "idf_func = lambda x, n_doc: np.log((n_doc + 1) / float(x + 1)) + 1"
   ]
  },
  {
   "cell_type": "code",
   "execution_count": 10,
   "metadata": {
    "collapsed": false
   },
   "outputs": [],
   "source": [
    "tfidf = corpus.tfidf_fit(idf_func=idf_func)"
   ]
  },
  {
   "cell_type": "code",
   "execution_count": 11,
   "metadata": {
    "collapsed": false
   },
   "outputs": [
    {
     "data": {
      "text/plain": [
       "[[(0, 0.85151334721046001), (1, 0.52433292813100962)],\n",
       " [(0, 1.0)],\n",
       " [(0, 1.0)],\n",
       " [(0, 1.0)],\n",
       " [(0, 0.55422893279980634), (2, 0.83236427725340778)],\n",
       " [(0, 0.63035730725644001), (1, 0.77630513664950718)]]"
      ]
     },
     "execution_count": 11,
     "metadata": {},
     "output_type": "execute_result"
    }
   ],
   "source": [
    "tfidf"
   ]
  },
  {
   "cell_type": "markdown",
   "metadata": {},
   "source": [
    "II. tfidf computed using **TfidfVectorizer** in **scikit-learn**"
   ]
  },
  {
   "cell_type": "code",
   "execution_count": 12,
   "metadata": {
    "collapsed": true
   },
   "outputs": [],
   "source": [
    "from sklearn.feature_extraction.text import TfidfVectorizer"
   ]
  },
  {
   "cell_type": "code",
   "execution_count": 13,
   "metadata": {
    "collapsed": true
   },
   "outputs": [],
   "source": [
    "vectorizor = TfidfVectorizer()"
   ]
  },
  {
   "cell_type": "code",
   "execution_count": 14,
   "metadata": {
    "collapsed": false
   },
   "outputs": [],
   "source": [
    "tfidf = vectorizor.fit_transform([\" \".join(doc) for doc in text2]).toarray()\n",
    "\n",
    "tfidf = [list(enumerate(text)) for text in tfidf]\n",
    "tfidf = [filter(lambda pair: pair[1] > 0, text) for text in tfidf]"
   ]
  },
  {
   "cell_type": "code",
   "execution_count": 15,
   "metadata": {
    "collapsed": false
   },
   "outputs": [
    {
     "data": {
      "text/plain": [
       "[[(0, 0.85151334721046001), (2, 0.52433292813100962)],\n",
       " [(0, 1.0)],\n",
       " [(0, 1.0)],\n",
       " [(0, 1.0)],\n",
       " [(0, 0.55422893279980634), (1, 0.83236427725340778)],\n",
       " [(0, 0.63035730725644001), (2, 0.77630513664950718)]]"
      ]
     },
     "execution_count": 15,
     "metadata": {},
     "output_type": "execute_result"
    }
   ],
   "source": [
    "tfidf"
   ]
  }
 ],
 "metadata": {
  "anaconda-cloud": {},
  "kernelspec": {
   "display_name": "Python [conda root]",
   "language": "python",
   "name": "conda-root-py"
  },
  "language_info": {
   "codemirror_mode": {
    "name": "ipython",
    "version": 2
   },
   "file_extension": ".py",
   "mimetype": "text/x-python",
   "name": "python",
   "nbconvert_exporter": "python",
   "pygments_lexer": "ipython2",
   "version": "2.7.12"
  }
 },
 "nbformat": 4,
 "nbformat_minor": 1
}
